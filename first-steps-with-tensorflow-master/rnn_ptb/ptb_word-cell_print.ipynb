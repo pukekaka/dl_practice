{
 "cells": [
  {
   "cell_type": "code",
   "execution_count": 9,
   "metadata": {
    "collapsed": false
   },
   "outputs": [
    {
     "name": "stdout",
     "output_type": "stream",
     "text": [
      "Using matplotlib backend: MacOSX\n",
      "Populating the interactive namespace from numpy and matplotlib\n",
      "The watermark extension is already loaded. To reload it, use:\n",
      "  %reload_ext watermark\n",
      "CPython 3.5.2\n",
      "IPython 5.1.0\n",
      "\n",
      "numpy 1.12.0\n",
      "tensorflow 1.0.0\n",
      "\n",
      "compiler   : GCC 4.2.1 Compatible Apple LLVM 4.2 (clang-425.0.28)\n",
      "system     : Darwin\n",
      "release    : 16.4.0\n",
      "machine    : x86_64\n",
      "processor  : i386\n",
      "CPU cores  : 8\n",
      "interpreter: 64bit\n"
     ]
    }
   ],
   "source": [
    "%pylab\n",
    "%matplotlib inline\n",
    "%load_ext watermark\n",
    "%watermark -v -m -p numpy,tensorflow"
   ]
  },
  {
   "cell_type": "code",
   "execution_count": 10,
   "metadata": {
    "collapsed": false
   },
   "outputs": [],
   "source": [
    "import time\n",
    "import tensorflow as tf\n",
    "from tensorflow.contrib.rnn import BasicLSTMCell, MultiRNNCell, DropoutWrapper\n",
    "\n",
    "import reader"
   ]
  },
  {
   "cell_type": "markdown",
   "metadata": {},
   "source": [
    "Small Config 정보를 사용합니다."
   ]
  },
  {
   "cell_type": "code",
   "execution_count": 11,
   "metadata": {
    "collapsed": true
   },
   "outputs": [],
   "source": [
    "class SmallConfig(object):\n",
    "    \"\"\"Small config.\"\"\"\n",
    "    init_scale = 0.1\n",
    "    learning_rate = 1.0\n",
    "    max_grad_norm = 5\n",
    "    num_layers = 2\n",
    "    num_steps = 20\n",
    "    hidden_size = 200\n",
    "    max_epoch = 4\n",
    "    max_max_epoch = 13\n",
    "    keep_prob = 1.0\n",
    "    lr_decay = 0.5\n",
    "    batch_size = 20\n",
    "    vocab_size = 10000"
   ]
  },
  {
   "cell_type": "markdown",
   "metadata": {},
   "source": [
    "트레이닝과 테스트에 사용할 두개의 config 오브젝트를 만듭니다."
   ]
  },
  {
   "cell_type": "code",
   "execution_count": 12,
   "metadata": {
    "collapsed": true
   },
   "outputs": [],
   "source": [
    "config = SmallConfig()\n",
    "eval_config = SmallConfig()\n",
    "eval_config.batch_size = 1\n",
    "eval_config.num_steps = 1"
   ]
  },
  {
   "cell_type": "markdown",
   "metadata": {},
   "source": [
    "PTB 모델을 만들어 주는 클래스를 작성합니다."
   ]
  },
  {
   "cell_type": "code",
   "execution_count": 13,
   "metadata": {
    "collapsed": true
   },
   "outputs": [],
   "source": [
    "class PTBModel(object):\n",
    "    \"\"\"The PTB model.\"\"\"\n",
    "\n",
    "    def __init__(self, config, is_training=False):\n",
    "        self.batch_size = config.batch_size\n",
    "        self.num_steps = config.num_steps\n",
    "        input_size = [config.batch_size, config.num_steps]\n",
    "        self.input_data = tf.placeholder(tf.int32, input_size)\n",
    "        self.targets = tf.placeholder(tf.int32, input_size)\n",
    "\n",
    "        lstm_cell = BasicLSTMCell(config.hidden_size, forget_bias=0.0, state_is_tuple=True)\n",
    "        # SmallConfig에서는 드롭아웃이 적용되지 않습니다.\n",
    "        if is_training and config.keep_prob < 1:\n",
    "            lstm_cell = DropoutWrapper(lstm_cell, config.keep_prob)\n",
    "        # 두개의 계층을 가진 신경망 구조를 만듭니다.\n",
    "        cell = MultiRNNCell([lstm_cell] * config.num_layers, state_is_tuple=True)\n",
    "\n",
    "        self.initial_state = cell.zero_state(config.batch_size, tf.float32)\n",
    "\n",
    "        with tf.device(\"/cpu:0\"):\n",
    "            embedding_size = [config.vocab_size, config.hidden_size]\n",
    "            embedding = tf.get_variable(\"embedding\", embedding_size)\n",
    "            inputs = tf.nn.embedding_lookup(embedding, self.input_data)\n",
    "\n",
    "        # SmallConfig에서는 드롭아웃이 적용되지 않습니다.\n",
    "        if is_training and config.keep_prob < 1:\n",
    "            inputs = tf.nn.dropout(inputs, config.keep_prob)\n",
    "\n",
    "        # 각 배치마다 순서대로 데이터를 뽑아 셀에 입력합니다. \n",
    "        outputs = []\n",
    "        state = self.initial_state\n",
    "        with tf.variable_scope(\"RNN\"):\n",
    "            for time_step in range(config.num_steps):\n",
    "                if time_step > 0: tf.get_variable_scope().reuse_variables()\n",
    "                (cell_output, state) = cell(inputs[:, time_step, :], state)\n",
    "                outputs.append(cell_output)\n",
    "\n",
    "        # output의 크기를 20x20x200에서 400x200으로 변경합니다.\n",
    "        output = tf.reshape(tf.concat(outputs, 1), [-1, config.hidden_size])\n",
    "        softmax_w_size = [config.hidden_size, config.vocab_size]\n",
    "        softmax_w = tf.get_variable(\"softmax_w\", softmax_w_size)\n",
    "        softmax_b = tf.get_variable(\"softmax_b\", [config.vocab_size])\n",
    "        # logits의 크기는 400x10000이 됩니다.\n",
    "        logits = tf.matmul(output, softmax_w) + softmax_b\n",
    "    \n",
    "        loss = tf.contrib.legacy_seq2seq.sequence_loss_by_example(\n",
    "            [logits],\n",
    "            [tf.reshape(self.targets, [-1])],\n",
    "            [tf.ones([config.batch_size * config.num_steps])])\n",
    "        self.cost = tf.reduce_sum(loss) / config.batch_size\n",
    "        self.final_state = state\n",
    "\n",
    "        if not is_training:\n",
    "            return\n",
    "\n",
    "        self.lr = tf.Variable(0.0, trainable=False)\n",
    "        tvars = tf.trainable_variables()\n",
    "        # 기울기 클리핑을 수행합니다.\n",
    "        grads, _ = tf.clip_by_global_norm(tf.gradients(self.cost, tvars),\n",
    "                                          config.max_grad_norm)\n",
    "        optimizer = tf.train.GradientDescentOptimizer(self.lr)\n",
    "        self.train_op = optimizer.apply_gradients(zip(grads, tvars))\n",
    "\n",
    "    def assign_lr(self, session, lr_value):\n",
    "        session.run(tf.assign(self.lr, lr_value))"
   ]
  },
  {
   "cell_type": "markdown",
   "metadata": {},
   "source": [
    "에포크를 처리할 함수를 만듭니다."
   ]
  },
  {
   "cell_type": "code",
   "execution_count": 14,
   "metadata": {
    "collapsed": false
   },
   "outputs": [],
   "source": [
    "def run_epoch(session, m, data, is_training=False):\n",
    "    \"\"\"Runs the model on the given data.\"\"\"\n",
    "    epoch_size = ((len(data) // m.batch_size) - 1) // m.num_steps\n",
    "    start_time = time.time()\n",
    "    costs = 0.0\n",
    "    iters = 0\n",
    "    \n",
    "    eval_op = m.train_op if is_training else tf.no_op()\n",
    "    \n",
    "    # initial_state는 2x20x200 크기의 튜플입니다.\n",
    "    state_list = []\n",
    "    for c, h in m.initial_state:\n",
    "        state_list.extend([c.eval(), h.eval()])\n",
    "    \n",
    "    ptb_iter = reader.ptb_iterator(data, m.batch_size, m.num_steps)\n",
    "    for step, (x, y) in enumerate(ptb_iter):\n",
    "        fetch_list = [m.cost]\n",
    "        # final_state 튜플에 담겨있는 상태를 꺼내어 fetch_list에 담습니다. \n",
    "        for c, h in m.final_state:\n",
    "            fetch_list.extend([c, h])\n",
    "        fetch_list.append(eval_op)\n",
    "        \n",
    "        # 이전 스텝에서 구해진 state_list가 feed_dict로 주입됩니다.\n",
    "        feed_dict = {m.input_data: x, m.targets: y}\n",
    "        for i in range(len(m.initial_state)):\n",
    "            c, h = m.initial_state[i]\n",
    "            feed_dict[c], feed_dict[h] = state_list[i*2:(i+1)*2]\n",
    "            print(\"feed_dict[c]\", feed_dict[c])\n",
    "            print(\"feed_dict[h]\", feed_dict[h])\n",
    "        \n",
    "        # fetch_list에 담긴 final_state의 결과를 state_list로 전달 받습니다.\n",
    "        cost, *state_list, _ = session.run(fetch_list, feed_dict)\n",
    "\n",
    "        costs += cost\n",
    "        iters += m.num_steps\n",
    "\n",
    "        if step > 1:\n",
    "            break\n",
    "        \n",
    "        if is_training and step % (epoch_size // 10) == 10:\n",
    "            print(\"%.3f perplexity: %.3f speed: %.0f wps\" %\n",
    "                    (step * 1.0 / epoch_size, np.exp(costs / iters),\n",
    "                     iters * m.batch_size / (time.time() - start_time)))\n",
    "\n",
    "    return np.exp(costs / iters)"
   ]
  },
  {
   "cell_type": "code",
   "execution_count": 15,
   "metadata": {
    "collapsed": false
   },
   "outputs": [],
   "source": [
    "raw_data = reader.ptb_raw_data('simple-examples/data')\n",
    "train_data, valid_data, test_data, _ = raw_data"
   ]
  },
  {
   "cell_type": "markdown",
   "metadata": {},
   "source": [
    "train_data, valid_data, test_data 는 단어를 숫자로 바꾼 리스트입니다.  \n",
    "가장 많이 나온 단어 순으로 0번 부터 시작하여 10000번 까지의 번호를 가지고 있습니다."
   ]
  },
  {
   "cell_type": "code",
   "execution_count": 16,
   "metadata": {
    "collapsed": false
   },
   "outputs": [
    {
     "name": "stdout",
     "output_type": "stream",
     "text": [
      "Epoch: 1 Learning rate: 1.000\n",
      "feed_dict[c] [[ 0.  0.  0. ...,  0.  0.  0.]\n",
      " [ 0.  0.  0. ...,  0.  0.  0.]\n",
      " [ 0.  0.  0. ...,  0.  0.  0.]\n",
      " ..., \n",
      " [ 0.  0.  0. ...,  0.  0.  0.]\n",
      " [ 0.  0.  0. ...,  0.  0.  0.]\n",
      " [ 0.  0.  0. ...,  0.  0.  0.]]\n",
      "feed_dict[h] [[ 0.  0.  0. ...,  0.  0.  0.]\n",
      " [ 0.  0.  0. ...,  0.  0.  0.]\n",
      " [ 0.  0.  0. ...,  0.  0.  0.]\n",
      " ..., \n",
      " [ 0.  0.  0. ...,  0.  0.  0.]\n",
      " [ 0.  0.  0. ...,  0.  0.  0.]\n",
      " [ 0.  0.  0. ...,  0.  0.  0.]]\n",
      "feed_dict[c] [[ 0.  0.  0. ...,  0.  0.  0.]\n",
      " [ 0.  0.  0. ...,  0.  0.  0.]\n",
      " [ 0.  0.  0. ...,  0.  0.  0.]\n",
      " ..., \n",
      " [ 0.  0.  0. ...,  0.  0.  0.]\n",
      " [ 0.  0.  0. ...,  0.  0.  0.]\n",
      " [ 0.  0.  0. ...,  0.  0.  0.]]\n",
      "feed_dict[h] [[ 0.  0.  0. ...,  0.  0.  0.]\n",
      " [ 0.  0.  0. ...,  0.  0.  0.]\n",
      " [ 0.  0.  0. ...,  0.  0.  0.]\n",
      " ..., \n",
      " [ 0.  0.  0. ...,  0.  0.  0.]\n",
      " [ 0.  0.  0. ...,  0.  0.  0.]\n",
      " [ 0.  0.  0. ...,  0.  0.  0.]]\n",
      "feed_dict[c] [[ 0.03381614 -0.0073951  -0.04575788 ..., -0.00726038  0.0274949\n",
      "  -0.00917377]\n",
      " [-0.0126079   0.03897829 -0.01088376 ...,  0.0200987  -0.01590085\n",
      "   0.00175373]\n",
      " [-0.02367641 -0.03092701  0.00068418 ...,  0.03565726  0.01691325\n",
      "   0.02337351]\n",
      " ..., \n",
      " [ 0.00214128 -0.03092691 -0.00303658 ..., -0.03507918 -0.00771523\n",
      "   0.06425864]\n",
      " [-0.00683568 -0.00693072 -0.03143473 ..., -0.04424213  0.00507199\n",
      "   0.0623523 ]\n",
      " [ 0.06566402 -0.01644299  0.01365023 ..., -0.0339128   0.00969513\n",
      "  -0.04013269]]\n",
      "feed_dict[h] [[ 0.01635783 -0.00362823 -0.02283062 ..., -0.00350978  0.01371355\n",
      "  -0.00449424]\n",
      " [-0.0062708   0.01975377 -0.00544887 ...,  0.01065546 -0.00785016\n",
      "   0.00087284]\n",
      " [-0.01211699 -0.01530053  0.00034504 ...,  0.01784951  0.00822824\n",
      "   0.0113113 ]\n",
      " ..., \n",
      " [ 0.00107402 -0.01509903 -0.00151944 ..., -0.01652008 -0.00374886\n",
      "   0.03109379]\n",
      " [-0.00349075 -0.00360181 -0.01572262 ..., -0.02095756  0.00259138\n",
      "   0.03161107]\n",
      " [ 0.03296478 -0.00813086  0.00669988 ..., -0.01780346  0.00486201\n",
      "  -0.02080478]]\n",
      "feed_dict[c] [[-0.01246124 -0.00167163 -0.00853317 ..., -0.02099723 -0.00640385\n",
      "   0.00376301]\n",
      " [-0.00254349 -0.01077485  0.01531618 ..., -0.00594107 -0.00694222\n",
      "   0.00971318]\n",
      " [ 0.00548924  0.00575912  0.0166964  ...,  0.01284939  0.02600309\n",
      "  -0.00314639]\n",
      " ..., \n",
      " [ 0.01119593 -0.00620301  0.00795067 ...,  0.0074387   0.00644481\n",
      "   0.01158663]\n",
      " [ 0.00700627 -0.00322707 -0.00908195 ...,  0.00625283 -0.02167055\n",
      "   0.00605902]\n",
      " [-0.00835962  0.00745836  0.01613248 ..., -0.00224694  0.00428451\n",
      "  -0.00386863]]\n",
      "feed_dict[h] [[-0.00618614 -0.00083371 -0.00430277 ..., -0.01057765 -0.00316581\n",
      "   0.00189081]\n",
      " [-0.00128713 -0.00547993  0.00767265 ..., -0.00293758 -0.00345671\n",
      "   0.00484657]\n",
      " [ 0.0027374   0.00288274  0.00834589 ...,  0.00640766  0.01298461\n",
      "  -0.00157199]\n",
      " ..., \n",
      " [ 0.00563915 -0.00311235  0.00395954 ...,  0.00371596  0.00321839\n",
      "   0.00579898]\n",
      " [ 0.00348949 -0.00162109 -0.00459068 ...,  0.00312827 -0.0108162\n",
      "   0.00301995]\n",
      " [-0.00415715  0.00374068  0.00803394 ..., -0.00112746  0.00211461\n",
      "  -0.00193523]]\n",
      "feed_dict[c] [[ 0.05349648 -0.0376833  -0.07407966 ..., -0.024711   -0.01969111\n",
      "   0.07969673]\n",
      " [ 0.01466897 -0.01706323 -0.02880239 ..., -0.01239425  0.01133357\n",
      "  -0.01439885]\n",
      " [ 0.01527145 -0.01784946 -0.05598586 ..., -0.06681596 -0.00849561\n",
      "  -0.01119962]\n",
      " ..., \n",
      " [ 0.01243813 -0.03189765 -0.04137809 ..., -0.07841293 -0.00948817\n",
      "  -0.02568497]\n",
      " [ 0.01105457 -0.05503028 -0.04665868 ..., -0.04503375  0.00268599\n",
      "   0.03017298]\n",
      " [ 0.04058218  0.00276319 -0.00291414 ...,  0.016991    0.00777591\n",
      "  -0.00678445]]\n",
      "feed_dict[h] [[ 0.0267128  -0.01840078 -0.03735049 ..., -0.01171397 -0.01022929\n",
      "   0.03966333]\n",
      " [ 0.00731041 -0.0082506  -0.01374389 ..., -0.00602339  0.00555252\n",
      "  -0.00712916]\n",
      " [ 0.00764173 -0.00892133 -0.02826003 ..., -0.03360059 -0.00430663\n",
      "  -0.00549378]\n",
      " ..., \n",
      " [ 0.00611302 -0.01546397 -0.02041875 ..., -0.03773455 -0.00487098\n",
      "  -0.01312445]\n",
      " [ 0.00576183 -0.02665348 -0.02446733 ..., -0.0221468   0.00136496\n",
      "   0.01416554]\n",
      " [ 0.02148154  0.0013865  -0.00144191 ...,  0.0083185   0.00394996\n",
      "  -0.00343709]]\n",
      "feed_dict[c] [[ 0.07413262  0.10214438  0.09315907 ..., -0.02646614 -0.01647743\n",
      "  -0.03531196]\n",
      " [ 0.05823004  0.11491552  0.07614967 ..., -0.01837767 -0.00633229\n",
      "  -0.04138206]\n",
      " [ 0.08112237  0.11161526  0.06257463 ..., -0.0234757  -0.0052461\n",
      "  -0.03895886]\n",
      " ..., \n",
      " [ 0.07548987  0.10378705  0.0774996  ..., -0.03043528 -0.02334442\n",
      "  -0.02874622]\n",
      " [ 0.06402136  0.09096839  0.07750534 ..., -0.03214419 -0.00909755\n",
      "  -0.04729653]\n",
      " [ 0.06839287  0.11303342  0.09384091 ..., -0.01074879  0.00155265\n",
      "  -0.0477441 ]]\n",
      "feed_dict[h] [[ 0.03596686  0.04979784  0.04738898 ..., -0.01338465 -0.00833386\n",
      "  -0.01753303]\n",
      " [ 0.02811285  0.05664123  0.03829889 ..., -0.00921816 -0.00321779\n",
      "  -0.02075175]\n",
      " [ 0.03915991  0.05448353  0.0316687  ..., -0.01182856 -0.00265198\n",
      "  -0.01924975]\n",
      " ..., \n",
      " [ 0.03642472  0.05071026  0.03936001 ..., -0.01519692 -0.011923\n",
      "  -0.01437641]\n",
      " [ 0.03116853  0.04446787  0.03922412 ..., -0.01601884 -0.00459263\n",
      "  -0.02367564]\n",
      " [ 0.03310182  0.05587867  0.04745206 ..., -0.00546834  0.00078339\n",
      "  -0.02349905]]\n",
      "Epoch: 1 Train Perplexity: 7042.205\n"
     ]
    }
   ],
   "source": [
    "with tf.Graph().as_default(), tf.Session() as session:\n",
    "    initializer = tf.random_uniform_initializer(-config.init_scale, config.init_scale)\n",
    "\n",
    "    # 학습과 검증, 테스트를 위한 모델을 만듭니다.\n",
    "    with tf.variable_scope(\"model\", reuse=None, initializer=initializer):\n",
    "        m = PTBModel(config, is_training=True)\n",
    "    with tf.variable_scope(\"model\", reuse=True, initializer=initializer):\n",
    "        mvalid = PTBModel(config)\n",
    "        mtest = PTBModel(eval_config)\n",
    "        \n",
    "    tf.global_variables_initializer().run()\n",
    "    \n",
    "    for i in range(config.max_max_epoch):\n",
    "        # lr_decay는 반복속도를 조절해 주는 역할을 합니다.\n",
    "        lr_decay = config.lr_decay ** max(i - config.max_epoch, 0.0)\n",
    "        m.assign_lr(session, config.learning_rate * lr_decay)\n",
    "        print(\"Epoch: %d Learning rate: %.3f\" % (i + 1, session.run(m.lr)))\n",
    "        \n",
    "        perplexity = run_epoch(session, m, train_data, is_training=True)\n",
    "        print(\"Epoch: %d Train Perplexity: %.3f\" % (i + 1, perplexity))\n",
    "        break\n",
    "\n",
    "        perplexity = run_epoch(session, mvalid, valid_data)\n",
    "        print(\"Epoch: %d Valid Perplexity: %.3f\" % (i + 1, perplexity))\n",
    "\n",
    "#     perplexity = run_epoch(session, mtest, test_data)\n",
    "#     print(\"Test Perplexity: %.3f\" % perplexity)"
   ]
  },
  {
   "cell_type": "code",
   "execution_count": null,
   "metadata": {
    "collapsed": true
   },
   "outputs": [],
   "source": []
  }
 ],
 "metadata": {
  "anaconda-cloud": {},
  "kernelspec": {
   "display_name": "Python [conda env:first-steps-with-tensorflow]",
   "language": "python",
   "name": "conda-env-first-steps-with-tensorflow-py"
  },
  "language_info": {
   "codemirror_mode": {
    "name": "ipython",
    "version": 3
   },
   "file_extension": ".py",
   "mimetype": "text/x-python",
   "name": "python",
   "nbconvert_exporter": "python",
   "pygments_lexer": "ipython3",
   "version": "3.5.2"
  }
 },
 "nbformat": 4,
 "nbformat_minor": 0
}
